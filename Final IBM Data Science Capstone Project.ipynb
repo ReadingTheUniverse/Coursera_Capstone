{
 "cells": [
  {
   "cell_type": "markdown",
   "metadata": {},
   "source": [
    "# Coursera Capstone\n",
    "\n",
    "### Introduction and Business Problem\n",
    "\n",
    "Question:  Clearly define a problem or an idea of your choice, where you would need to leverage the Foursquare location data to solve or execute. Remember that data science problems always target an audience and are meant to help a group of stakeholders solve a problem, so make sure that you explicitly describe your audience and why they would care about your problem.\n",
    "\n",
    "Answer: \n",
    "\n",
    "Two historic and very popular jazz clubs have recently closed in the District of Columbia.  This leaves a underserved market.  In this assignment I seek to determine what neighborhood is the best to open a new jazz club.\n",
    "\n",
    "### The Data\n",
    "\n",
    "Question 2:  Describe the data that you will be using to solve the problem or execute your idea. Remember that you will need to use the Foursquare location data to solve the problem or execute your idea. You can absolutely use other datasets in combination with the Foursquare location data. So make sure that you provide adequate explanation and discussion, with examples, of the data that you will be using, even if it is only Foursquare location data.\n",
    "\n",
    "Answer:  The Foursquare API provides the category of \"jazz clubs.\"  The idea is to cluster the neighborhoods and determine where the hotbeds of jazz are.  "
   ]
  }
 ],
 "metadata": {
  "kernelspec": {
   "display_name": "Python 3",
   "language": "python",
   "name": "python3"
  },
  "language_info": {
   "codemirror_mode": {
    "name": "ipython",
    "version": 3
   },
   "file_extension": ".py",
   "mimetype": "text/x-python",
   "name": "python",
   "nbconvert_exporter": "python",
   "pygments_lexer": "ipython3",
   "version": "3.6.10"
  }
 },
 "nbformat": 4,
 "nbformat_minor": 2
}
